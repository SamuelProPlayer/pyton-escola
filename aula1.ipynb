{
  "nbformat": 4,
  "nbformat_minor": 0,
  "metadata": {
    "colab": {
      "provenance": [],
      "toc_visible": true,
      "authorship_tag": "ABX9TyP+2S8Rf9/xd565zY1ALsAE",
      "include_colab_link": true
    },
    "kernelspec": {
      "name": "python3",
      "display_name": "Python 3"
    },
    "language_info": {
      "name": "python"
    }
  },
  "cells": [
    {
      "cell_type": "markdown",
      "metadata": {
        "id": "view-in-github",
        "colab_type": "text"
      },
      "source": [
        "<a href=\"https://colab.research.google.com/github/SamuelProPlayer/pyton-escola/blob/main/aula1.ipynb\" target=\"_parent\"><img src=\"https://colab.research.google.com/assets/colab-badge.svg\" alt=\"Open In Colab\"/></a>"
      ]
    },
    {
      "cell_type": "code",
      "source": [
        "\n",
        "ano = \"II\"\n",
        "print(f\"{ano} Hallo madschen, danke\")\n",
        "print(\"Hallo mann, unsonst\")"
      ],
      "metadata": {
        "colab": {
          "base_uri": "https://localhost:8080/"
        },
        "id": "kD3uvStjnVrj",
        "outputId": "aba99fd9-ddff-4486-d3b3-39504bd0cd56"
      },
      "execution_count": null,
      "outputs": [
        {
          "output_type": "stream",
          "name": "stdout",
          "text": [
            "II Hallo madschen, danke\n",
            "Hallo mann, unsonst\n"
          ]
        }
      ]
    },
    {
      "cell_type": "code",
      "source": [
        "livro_ficcao = 8\n",
        "livro_n_ficcao = 10\n",
        "livro_infantil = 6\n",
        "pontos_rodrigo = livro_ficcao + livro_n_ficcao + livro_infantil\n",
        "print(f\"Os pontos totais do Rodrigo são {pontos_rodrigo}\")\n",
        "pontos_ana = 2 * livro_ficcao + 5 * livro_infantil\n",
        "print(f\"Os pontos totais Ana são {pontos_ana}\")\n",
        "pontos_carlos = livro_ficcao + 3 * livro_n_ficcao + 5 * livro_infantil\n",
        "print(f\"Os pontos totais do Carlos são {pontos_carlos}\")\n",
        "pontos_totais=pontos_ana + pontos_rodrigo + pontos_carlos\n",
        "print(f\"Os pontos totais de Ana, Rodrigo e Carlos são {pontos_carlos+pontos_ana+pontos_rodrigo}\")\n",
        "pontos_totais=pontos_ana + pontos_rodrigo\n",
        "print(f\"Os pontos totais de Ana e Rodrigo são {pontos_carlos+pontos_ana}\")"
      ],
      "metadata": {
        "colab": {
          "base_uri": "https://localhost:8080/"
        },
        "id": "2iDV1Bthir08",
        "outputId": "4505fbae-7dd2-49b0-f5f2-421a0af66a08"
      },
      "execution_count": 35,
      "outputs": [
        {
          "output_type": "stream",
          "name": "stdout",
          "text": [
            "Os pontos totais do Rodrigo são 24\n",
            "Os pontos totais Ana são 46\n",
            "Os pontos totais do Carlos são 68\n",
            "Os pontos totais de Ana, Rodrigo e Carlos são 138\n",
            "Os pontos totais de Ana e Rodrigo são 114\n"
          ]
        }
      ]
    },
    {
      "cell_type": "code",
      "source": [
        "total_de_figurinhas = int(input(\"Digite o total de figurinhas: \"))\n",
        "numero_de_amigos = int(input(\"Digite o número de amigos: \"))\n",
        "figurinhas_amigo = total_de_figurinhas // (numero_de_amigos + 2)\n",
        "total_de_figurinhas = int(input(\"Digite o total de figurinhas: \"))\n",
        "numero_de_amigos = int(input(\"Digite o número de amigos: \"))\n",
        "figurinhas_joao = 2 * figurinhas_amigo\n",
        "\n",
        "print(f\"João recebeu {figurinhas_joao} figurinhas\")"
      ],
      "metadata": {
        "colab": {
          "base_uri": "https://localhost:8080/"
        },
        "id": "FXlGBrVajQT6",
        "outputId": "28135d70-1ff0-47ed-ba88-7028eb3bee86"
      },
      "execution_count": 9,
      "outputs": [
        {
          "output_type": "stream",
          "name": "stdout",
          "text": [
            "Digite o total de figurinhas: 100\n",
            "Digite o número de amigos: 10\n",
            "Digite o total de figurinhas: 100\n",
            "Digite o número de amigos: 5\n",
            "João recebeu 16 figurinhas\n"
          ]
        }
      ]
    },
    {
      "cell_type": "code",
      "source": [],
      "metadata": {
        "id": "8Fk4bV2hjqMf"
      },
      "execution_count": null,
      "outputs": []
    }
  ]
}