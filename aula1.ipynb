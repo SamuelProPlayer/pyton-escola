{
  "cells": [
    {
      "cell_type": "markdown",
      "metadata": {
        "id": "view-in-github",
        "colab_type": "text"
      },
      "source": [
        "<a href=\"https://colab.research.google.com/github/SamuelProPlayer/pyton-escola/blob/main/aula1.ipynb\" target=\"_parent\"><img src=\"https://colab.research.google.com/assets/colab-badge.svg\" alt=\"Open In Colab\"/></a>"
      ]
    },
    {
      "cell_type": "code",
      "execution_count": null,
      "metadata": {
        "colab": {
          "base_uri": "https://localhost:8080/"
        },
        "id": "kD3uvStjnVrj",
        "outputId": "aba99fd9-ddff-4486-d3b3-39504bd0cd56"
      },
      "outputs": [
        {
          "name": "stdout",
          "output_type": "stream",
          "text": [
            "II Hallo madschen, danke\n",
            "Hallo mann, unsonst\n"
          ]
        }
      ],
      "source": [
        "\n",
        "ano = \"II\"\n",
        "print(f\"{ano} Hallo madschen, danke\")\n",
        "print(\"Hallo mann, unsonst\")"
      ]
    },
    {
      "cell_type": "code",
      "source": [
        "livro_ficcao = 8\n",
        "livro_n_ficcao = 10\n",
        "livro_infantil = 6\n",
        "pontos_rodrigo = livro_ficcao + livro_n_ficcao + livro_infantil\n",
        "print(f\"Os pontos totais do Rodrigo são {pontos_rodrigo}\")\n",
        "pontos_ana = 2 * livro_ficcao + 5 * livro_infantil\n",
        "print(f\"Os pontos totais Ana são {pontos_ana}\")\n",
        "pontos_carlos = livro_ficcao + 3 * livro_n_ficcao + 5 * livro_infantil\n",
        "print(f\"Os pontos totais do Carlos são {pontos_carlos}\")\n",
        "pontos_totais=pontos_ana + pontos_rodrigo + pontos_carlos\n",
        "print(f\"Os pontos totais de Ana, Rodrigo e Carlos são {pontos_carlos+pontos_ana+pontos_rodrigo}\")\n",
        "pontos_totais=pontos_ana + pontos_rodrigo\n",
        "print(f\"Os pontos totais de Ana e Rodrigo são {pontos_carlos+pontos_ana}\")"
      ],
      "metadata": {
        "colab": {
          "base_uri": "https://localhost:8080/"
        },
        "id": "2iDV1Bthir08",
        "outputId": "4505fbae-7dd2-49b0-f5f2-421a0af66a08"
      },
      "execution_count": null,
      "outputs": [
        {
          "output_type": "stream",
          "name": "stdout",
          "text": [
            "Os pontos totais do Rodrigo são 24\n",
            "Os pontos totais Ana são 46\n",
            "Os pontos totais do Carlos são 68\n",
            "Os pontos totais de Ana, Rodrigo e Carlos são 138\n",
            "Os pontos totais de Ana e Rodrigo são 114\n"
          ]
        }
      ]
    },
    {
      "cell_type": "code",
      "source": [
        "total_de_figurinhas = int(input(\"Digite o total de figurinhas: \"))\n",
        "numero_de_amigos = int(input(\"Digite o número de amigos: \"))\n",
        "figurinhas_amigo = total_de_figurinhas // (numero_de_amigos + 2)\n",
        "total_de_figurinhas = int(input(\"Digite o total de figurinhas: \"))\n",
        "numero_de_amigos = int(input(\"Digite o número de amigos: \"))\n",
        "figurinhas_joao = 2 * figurinhas_amigo\n",
        "\n",
        "print(f\"João recebeu {figurinhas_joao} figurinhas\")"
      ],
      "metadata": {
        "colab": {
          "base_uri": "https://localhost:8080/"
        },
        "id": "FXlGBrVajQT6",
        "outputId": "28135d70-1ff0-47ed-ba88-7028eb3bee86"
      },
      "execution_count": null,
      "outputs": [
        {
          "output_type": "stream",
          "name": "stdout",
          "text": [
            "Digite o total de figurinhas: 100\n",
            "Digite o número de amigos: 10\n",
            "Digite o total de figurinhas: 100\n",
            "Digite o número de amigos: 5\n",
            "João recebeu 16 figurinhas\n"
          ]
        }
      ]
    },
    {
      "cell_type": "markdown",
      "source": [
        "CHATBOT"
      ],
      "metadata": {
        "id": "7yYCEIG39ny7"
      }
    },
    {
      "cell_type": "markdown",
      "source": [
        "Receber perguntas dos alunos:"
      ],
      "metadata": {
        "id": "jFV0pWBUyaV_"
      }
    },
    {
      "cell_type": "code",
      "source": [
        "print(\"Olá, sou seu assistente virtual escolar!\")\n",
        "print(\"Como posso te ajudar?\")\n",
        "nome = input(\"digite seu nome\")\n",
        "print(f\"Olá, {nome}. Qual é sua dúdiva hoje?\")\n",
        "resposta = input(\"Qual o assunto que deseja tratar: Matemática, programação, português\").lower()\n",
        "if resposta == \"Matemática\":\n",
        "   print(\"Ótimo, vamos falar sobre matemática!\")\n",
        "   print(\"A matemática é a linguagem universal que descreve padrões e estruturas do mundo ao nosso redor. Com ela, podemos resolver problemas complexos, criar soluções inovadoras e entender melhor a realidade. Desde simples operações até teorias avançadas, a matemática é fundamental para o avanço da ciência e tecnologia. Ela nos ensina a pensar de forma lógica e crítica.\n",
        "\")\n",
        "elif resposta == \"programação\":\n",
        "   print(\"Claro, vamos falar da história da programação!\")\n",
        "   print(\"A história da programação começou no século XIX, com Charles Babbage e sua máquina analítica, considerada o primeiro esboço de um computador. No início do século XX, Ada Lovelace, reconhecida como a primeira programadora, escreveu algoritmos para essa máquina. Com o avanço da tecnologia, na década de 1940, surgiram os primeiros computadores eletrônicos, como o ENIAC, e linguagens como o Assembly. Nos anos 1950 e 1960, surgiram linguagens de programação de alto nível, como Fortran e Lisp, facilitando o desenvolvimento de softwares. Desde então, a programação evoluiu rapidamente, tornando-se essencial em todas as áreas da ciência e da tecnologia.\n",
        "\")\n",
        "elif resposta==\"português\":\n",
        "    print(\"Certamente, vamos conversar sobre a lingua mais rica do mundo, o português.\")\n",
        "    print(\"A língua portuguesa do Brasil é rica e diversa, refletindo a pluralidade cultural e histórica do país. Influenciada por povos indígenas, africanos, europeus e asiáticos, ela é marcada por uma mistura única de expressões, sotaques e vocabulários regionais. Além disso, o português brasileiro se adapta constantemente às novas realidades sociais e tecnológicas, incorporando neologismos e expressões populares. Sua musicalidade e ritmo são evidentes na literatura, na poesia e nas músicas que atravessam gerações. A riqueza da língua é também um reflexo da criatividade e da capacidade de reinvenção do povo brasileiro. Em cada esquina do Brasil, a língua ganha uma nova forma, mantendo sua essência, mas se transformando com o tempo.\n",
        "\")\n",
        "else:\n",
        "    print(\"Infelizmente não conheço este assunto\")\n",
        "\n",
        "\n",
        "print(f\"Que bom, {nome}, vamos falar sobre {resposta}\")"
      ],
      "metadata": {
        "colab": {
          "base_uri": "https://localhost:8080/",
          "height": 159
        },
        "id": "XtuUGyjAyRO5",
        "outputId": "ce29d959-2df9-47d1-e9e6-362cb86f7378"
      },
      "execution_count": 14,
      "outputs": [
        {
          "output_type": "error",
          "ename": "SyntaxError",
          "evalue": "unterminated string literal (detected at line 8) (ipython-input-355606823.py, line 8)",
          "traceback": [
            "\u001b[0;36m  File \u001b[0;32m\"/tmp/ipython-input-355606823.py\"\u001b[0;36m, line \u001b[0;32m8\u001b[0m\n\u001b[0;31m    print(\"A matemática é a linguagem universal que descreve padrões e estruturas do mundo ao nosso redor. Com ela, podemos resolver problemas complexos, criar soluções inovadoras e entender melhor a realidade. Desde simples operações até teorias avançadas, a matemática é fundamental para o avanço da ciência e tecnologia. Ela nos ensina a pensar de forma lógica e crítica.\u001b[0m\n\u001b[0m          ^\u001b[0m\n\u001b[0;31mSyntaxError\u001b[0m\u001b[0;31m:\u001b[0m unterminated string literal (detected at line 8)\n"
          ]
        }
      ]
    }
  ],
  "metadata": {
    "colab": {
      "provenance": [],
      "toc_visible": true,
      "include_colab_link": true
    },
    "kernelspec": {
      "display_name": "Python 3",
      "name": "python3"
    },
    "language_info": {
      "name": "python"
    }
  },
  "nbformat": 4,
  "nbformat_minor": 0
}